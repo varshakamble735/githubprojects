{
 "cells": [
  {
   "cell_type": "code",
   "execution_count": 4,
   "id": "310ec017",
   "metadata": {},
   "outputs": [],
   "source": [
    "import numpy as np\n",
    "import pandas as pd\n",
    "import matplotlib.pyplot as plt\n",
    "import seaborn as sns \n",
    "import warnings \n",
    "warnings.filterwarnings(\"ignore\")"
   ]
  },
  {
   "cell_type": "code",
   "execution_count": 5,
   "id": "bd33893a",
   "metadata": {},
   "outputs": [],
   "source": [
    "pd.set_option(\"display.max_columns\",None)"
   ]
  },
  {
   "cell_type": "code",
   "execution_count": 6,
   "id": "cc583354",
   "metadata": {},
   "outputs": [],
   "source": [
    "corp=pd.read_table(r\"D:\\Backup\\Varsha\\Desktop\\python dataset\\XYZCorp_LendingData.txt\",low_memory=False,delimiter=\"\\t\",header=0)"
   ]
  },
  {
   "cell_type": "code",
   "execution_count": 7,
   "id": "a7072c4d",
   "metadata": {},
   "outputs": [
    {
     "data": {
      "text/html": [
       "<div>\n",
       "<style scoped>\n",
       "    .dataframe tbody tr th:only-of-type {\n",
       "        vertical-align: middle;\n",
       "    }\n",
       "\n",
       "    .dataframe tbody tr th {\n",
       "        vertical-align: top;\n",
       "    }\n",
       "\n",
       "    .dataframe thead th {\n",
       "        text-align: right;\n",
       "    }\n",
       "</style>\n",
       "<table border=\"1\" class=\"dataframe\">\n",
       "  <thead>\n",
       "    <tr style=\"text-align: right;\">\n",
       "      <th></th>\n",
       "      <th>id</th>\n",
       "      <th>member_id</th>\n",
       "      <th>loan_amnt</th>\n",
       "      <th>funded_amnt</th>\n",
       "      <th>funded_amnt_inv</th>\n",
       "      <th>term</th>\n",
       "      <th>int_rate</th>\n",
       "      <th>installment</th>\n",
       "      <th>grade</th>\n",
       "      <th>sub_grade</th>\n",
       "      <th>emp_title</th>\n",
       "      <th>emp_length</th>\n",
       "      <th>home_ownership</th>\n",
       "      <th>annual_inc</th>\n",
       "      <th>verification_status</th>\n",
       "      <th>issue_d</th>\n",
       "      <th>pymnt_plan</th>\n",
       "      <th>desc</th>\n",
       "      <th>purpose</th>\n",
       "      <th>title</th>\n",
       "      <th>zip_code</th>\n",
       "      <th>addr_state</th>\n",
       "      <th>dti</th>\n",
       "      <th>delinq_2yrs</th>\n",
       "      <th>earliest_cr_line</th>\n",
       "      <th>inq_last_6mths</th>\n",
       "      <th>mths_since_last_delinq</th>\n",
       "      <th>mths_since_last_record</th>\n",
       "      <th>open_acc</th>\n",
       "      <th>pub_rec</th>\n",
       "      <th>revol_bal</th>\n",
       "      <th>revol_util</th>\n",
       "      <th>total_acc</th>\n",
       "      <th>initial_list_status</th>\n",
       "      <th>out_prncp</th>\n",
       "      <th>out_prncp_inv</th>\n",
       "      <th>total_pymnt</th>\n",
       "      <th>total_pymnt_inv</th>\n",
       "      <th>total_rec_prncp</th>\n",
       "      <th>total_rec_int</th>\n",
       "      <th>total_rec_late_fee</th>\n",
       "      <th>recoveries</th>\n",
       "      <th>collection_recovery_fee</th>\n",
       "      <th>last_pymnt_d</th>\n",
       "      <th>last_pymnt_amnt</th>\n",
       "      <th>next_pymnt_d</th>\n",
       "      <th>last_credit_pull_d</th>\n",
       "      <th>collections_12_mths_ex_med</th>\n",
       "      <th>mths_since_last_major_derog</th>\n",
       "      <th>policy_code</th>\n",
       "      <th>application_type</th>\n",
       "      <th>annual_inc_joint</th>\n",
       "      <th>dti_joint</th>\n",
       "      <th>verification_status_joint</th>\n",
       "      <th>acc_now_delinq</th>\n",
       "      <th>tot_coll_amt</th>\n",
       "      <th>tot_cur_bal</th>\n",
       "      <th>open_acc_6m</th>\n",
       "      <th>open_il_6m</th>\n",
       "      <th>open_il_12m</th>\n",
       "      <th>open_il_24m</th>\n",
       "      <th>mths_since_rcnt_il</th>\n",
       "      <th>total_bal_il</th>\n",
       "      <th>il_util</th>\n",
       "      <th>open_rv_12m</th>\n",
       "      <th>open_rv_24m</th>\n",
       "      <th>max_bal_bc</th>\n",
       "      <th>all_util</th>\n",
       "      <th>total_rev_hi_lim</th>\n",
       "      <th>inq_fi</th>\n",
       "      <th>total_cu_tl</th>\n",
       "      <th>inq_last_12m</th>\n",
       "      <th>default_ind</th>\n",
       "    </tr>\n",
       "  </thead>\n",
       "  <tbody>\n",
       "    <tr>\n",
       "      <th>0</th>\n",
       "      <td>1077501</td>\n",
       "      <td>1296599</td>\n",
       "      <td>5000.0</td>\n",
       "      <td>5000.0</td>\n",
       "      <td>4975.0</td>\n",
       "      <td>36 months</td>\n",
       "      <td>10.65</td>\n",
       "      <td>162.87</td>\n",
       "      <td>B</td>\n",
       "      <td>B2</td>\n",
       "      <td>NaN</td>\n",
       "      <td>10+ years</td>\n",
       "      <td>RENT</td>\n",
       "      <td>24000.0</td>\n",
       "      <td>Verified</td>\n",
       "      <td>Dec-2011</td>\n",
       "      <td>n</td>\n",
       "      <td>Borrower added on 12/22/11 &gt; I need to upgra...</td>\n",
       "      <td>credit_card</td>\n",
       "      <td>Computer</td>\n",
       "      <td>860xx</td>\n",
       "      <td>AZ</td>\n",
       "      <td>27.65</td>\n",
       "      <td>0.0</td>\n",
       "      <td>Jan-1985</td>\n",
       "      <td>1.0</td>\n",
       "      <td>NaN</td>\n",
       "      <td>NaN</td>\n",
       "      <td>3.0</td>\n",
       "      <td>0.0</td>\n",
       "      <td>13648.0</td>\n",
       "      <td>83.7</td>\n",
       "      <td>9.0</td>\n",
       "      <td>f</td>\n",
       "      <td>0.0</td>\n",
       "      <td>0.0</td>\n",
       "      <td>5861.071414</td>\n",
       "      <td>5831.78</td>\n",
       "      <td>5000.00</td>\n",
       "      <td>861.07</td>\n",
       "      <td>0.00</td>\n",
       "      <td>0.00</td>\n",
       "      <td>0.00</td>\n",
       "      <td>Jan-2015</td>\n",
       "      <td>171.62</td>\n",
       "      <td>NaN</td>\n",
       "      <td>Jan-2016</td>\n",
       "      <td>0.0</td>\n",
       "      <td>NaN</td>\n",
       "      <td>1.0</td>\n",
       "      <td>INDIVIDUAL</td>\n",
       "      <td>NaN</td>\n",
       "      <td>NaN</td>\n",
       "      <td>NaN</td>\n",
       "      <td>0.0</td>\n",
       "      <td>NaN</td>\n",
       "      <td>NaN</td>\n",
       "      <td>NaN</td>\n",
       "      <td>NaN</td>\n",
       "      <td>NaN</td>\n",
       "      <td>NaN</td>\n",
       "      <td>NaN</td>\n",
       "      <td>NaN</td>\n",
       "      <td>NaN</td>\n",
       "      <td>NaN</td>\n",
       "      <td>NaN</td>\n",
       "      <td>NaN</td>\n",
       "      <td>NaN</td>\n",
       "      <td>NaN</td>\n",
       "      <td>NaN</td>\n",
       "      <td>NaN</td>\n",
       "      <td>NaN</td>\n",
       "      <td>0</td>\n",
       "    </tr>\n",
       "    <tr>\n",
       "      <th>1</th>\n",
       "      <td>1077430</td>\n",
       "      <td>1314167</td>\n",
       "      <td>2500.0</td>\n",
       "      <td>2500.0</td>\n",
       "      <td>2500.0</td>\n",
       "      <td>60 months</td>\n",
       "      <td>15.27</td>\n",
       "      <td>59.83</td>\n",
       "      <td>C</td>\n",
       "      <td>C4</td>\n",
       "      <td>Ryder</td>\n",
       "      <td>&lt; 1 year</td>\n",
       "      <td>RENT</td>\n",
       "      <td>30000.0</td>\n",
       "      <td>Source Verified</td>\n",
       "      <td>Dec-2011</td>\n",
       "      <td>n</td>\n",
       "      <td>Borrower added on 12/22/11 &gt; I plan to use t...</td>\n",
       "      <td>car</td>\n",
       "      <td>bike</td>\n",
       "      <td>309xx</td>\n",
       "      <td>GA</td>\n",
       "      <td>1.00</td>\n",
       "      <td>0.0</td>\n",
       "      <td>Apr-1999</td>\n",
       "      <td>5.0</td>\n",
       "      <td>NaN</td>\n",
       "      <td>NaN</td>\n",
       "      <td>3.0</td>\n",
       "      <td>0.0</td>\n",
       "      <td>1687.0</td>\n",
       "      <td>9.4</td>\n",
       "      <td>4.0</td>\n",
       "      <td>f</td>\n",
       "      <td>0.0</td>\n",
       "      <td>0.0</td>\n",
       "      <td>1008.710000</td>\n",
       "      <td>1008.71</td>\n",
       "      <td>456.46</td>\n",
       "      <td>435.17</td>\n",
       "      <td>0.00</td>\n",
       "      <td>117.08</td>\n",
       "      <td>1.11</td>\n",
       "      <td>Apr-2013</td>\n",
       "      <td>119.66</td>\n",
       "      <td>NaN</td>\n",
       "      <td>Sep-2013</td>\n",
       "      <td>0.0</td>\n",
       "      <td>NaN</td>\n",
       "      <td>1.0</td>\n",
       "      <td>INDIVIDUAL</td>\n",
       "      <td>NaN</td>\n",
       "      <td>NaN</td>\n",
       "      <td>NaN</td>\n",
       "      <td>0.0</td>\n",
       "      <td>NaN</td>\n",
       "      <td>NaN</td>\n",
       "      <td>NaN</td>\n",
       "      <td>NaN</td>\n",
       "      <td>NaN</td>\n",
       "      <td>NaN</td>\n",
       "      <td>NaN</td>\n",
       "      <td>NaN</td>\n",
       "      <td>NaN</td>\n",
       "      <td>NaN</td>\n",
       "      <td>NaN</td>\n",
       "      <td>NaN</td>\n",
       "      <td>NaN</td>\n",
       "      <td>NaN</td>\n",
       "      <td>NaN</td>\n",
       "      <td>NaN</td>\n",
       "      <td>NaN</td>\n",
       "      <td>1</td>\n",
       "    </tr>\n",
       "    <tr>\n",
       "      <th>2</th>\n",
       "      <td>1077175</td>\n",
       "      <td>1313524</td>\n",
       "      <td>2400.0</td>\n",
       "      <td>2400.0</td>\n",
       "      <td>2400.0</td>\n",
       "      <td>36 months</td>\n",
       "      <td>15.96</td>\n",
       "      <td>84.33</td>\n",
       "      <td>C</td>\n",
       "      <td>C5</td>\n",
       "      <td>NaN</td>\n",
       "      <td>10+ years</td>\n",
       "      <td>RENT</td>\n",
       "      <td>12252.0</td>\n",
       "      <td>Not Verified</td>\n",
       "      <td>Dec-2011</td>\n",
       "      <td>n</td>\n",
       "      <td>NaN</td>\n",
       "      <td>small_business</td>\n",
       "      <td>real estate business</td>\n",
       "      <td>606xx</td>\n",
       "      <td>IL</td>\n",
       "      <td>8.72</td>\n",
       "      <td>0.0</td>\n",
       "      <td>Nov-2001</td>\n",
       "      <td>2.0</td>\n",
       "      <td>NaN</td>\n",
       "      <td>NaN</td>\n",
       "      <td>2.0</td>\n",
       "      <td>0.0</td>\n",
       "      <td>2956.0</td>\n",
       "      <td>98.5</td>\n",
       "      <td>10.0</td>\n",
       "      <td>f</td>\n",
       "      <td>0.0</td>\n",
       "      <td>0.0</td>\n",
       "      <td>3003.653644</td>\n",
       "      <td>3003.65</td>\n",
       "      <td>2400.00</td>\n",
       "      <td>603.65</td>\n",
       "      <td>0.00</td>\n",
       "      <td>0.00</td>\n",
       "      <td>0.00</td>\n",
       "      <td>Jun-2014</td>\n",
       "      <td>649.91</td>\n",
       "      <td>NaN</td>\n",
       "      <td>Jan-2016</td>\n",
       "      <td>0.0</td>\n",
       "      <td>NaN</td>\n",
       "      <td>1.0</td>\n",
       "      <td>INDIVIDUAL</td>\n",
       "      <td>NaN</td>\n",
       "      <td>NaN</td>\n",
       "      <td>NaN</td>\n",
       "      <td>0.0</td>\n",
       "      <td>NaN</td>\n",
       "      <td>NaN</td>\n",
       "      <td>NaN</td>\n",
       "      <td>NaN</td>\n",
       "      <td>NaN</td>\n",
       "      <td>NaN</td>\n",
       "      <td>NaN</td>\n",
       "      <td>NaN</td>\n",
       "      <td>NaN</td>\n",
       "      <td>NaN</td>\n",
       "      <td>NaN</td>\n",
       "      <td>NaN</td>\n",
       "      <td>NaN</td>\n",
       "      <td>NaN</td>\n",
       "      <td>NaN</td>\n",
       "      <td>NaN</td>\n",
       "      <td>NaN</td>\n",
       "      <td>0</td>\n",
       "    </tr>\n",
       "    <tr>\n",
       "      <th>3</th>\n",
       "      <td>1076863</td>\n",
       "      <td>1277178</td>\n",
       "      <td>10000.0</td>\n",
       "      <td>10000.0</td>\n",
       "      <td>10000.0</td>\n",
       "      <td>36 months</td>\n",
       "      <td>13.49</td>\n",
       "      <td>339.31</td>\n",
       "      <td>C</td>\n",
       "      <td>C1</td>\n",
       "      <td>AIR RESOURCES BOARD</td>\n",
       "      <td>10+ years</td>\n",
       "      <td>RENT</td>\n",
       "      <td>49200.0</td>\n",
       "      <td>Source Verified</td>\n",
       "      <td>Dec-2011</td>\n",
       "      <td>n</td>\n",
       "      <td>Borrower added on 12/21/11 &gt; to pay for prop...</td>\n",
       "      <td>other</td>\n",
       "      <td>personel</td>\n",
       "      <td>917xx</td>\n",
       "      <td>CA</td>\n",
       "      <td>20.00</td>\n",
       "      <td>0.0</td>\n",
       "      <td>Feb-1996</td>\n",
       "      <td>1.0</td>\n",
       "      <td>35.0</td>\n",
       "      <td>NaN</td>\n",
       "      <td>10.0</td>\n",
       "      <td>0.0</td>\n",
       "      <td>5598.0</td>\n",
       "      <td>21.0</td>\n",
       "      <td>37.0</td>\n",
       "      <td>f</td>\n",
       "      <td>0.0</td>\n",
       "      <td>0.0</td>\n",
       "      <td>12226.302212</td>\n",
       "      <td>12226.30</td>\n",
       "      <td>10000.00</td>\n",
       "      <td>2209.33</td>\n",
       "      <td>16.97</td>\n",
       "      <td>0.00</td>\n",
       "      <td>0.00</td>\n",
       "      <td>Jan-2015</td>\n",
       "      <td>357.48</td>\n",
       "      <td>NaN</td>\n",
       "      <td>Jan-2015</td>\n",
       "      <td>0.0</td>\n",
       "      <td>NaN</td>\n",
       "      <td>1.0</td>\n",
       "      <td>INDIVIDUAL</td>\n",
       "      <td>NaN</td>\n",
       "      <td>NaN</td>\n",
       "      <td>NaN</td>\n",
       "      <td>0.0</td>\n",
       "      <td>NaN</td>\n",
       "      <td>NaN</td>\n",
       "      <td>NaN</td>\n",
       "      <td>NaN</td>\n",
       "      <td>NaN</td>\n",
       "      <td>NaN</td>\n",
       "      <td>NaN</td>\n",
       "      <td>NaN</td>\n",
       "      <td>NaN</td>\n",
       "      <td>NaN</td>\n",
       "      <td>NaN</td>\n",
       "      <td>NaN</td>\n",
       "      <td>NaN</td>\n",
       "      <td>NaN</td>\n",
       "      <td>NaN</td>\n",
       "      <td>NaN</td>\n",
       "      <td>NaN</td>\n",
       "      <td>0</td>\n",
       "    </tr>\n",
       "  </tbody>\n",
       "</table>\n",
       "</div>"
      ],
      "text/plain": [
       "        id  member_id  loan_amnt  funded_amnt  funded_amnt_inv        term  \\\n",
       "0  1077501    1296599     5000.0       5000.0           4975.0   36 months   \n",
       "1  1077430    1314167     2500.0       2500.0           2500.0   60 months   \n",
       "2  1077175    1313524     2400.0       2400.0           2400.0   36 months   \n",
       "3  1076863    1277178    10000.0      10000.0          10000.0   36 months   \n",
       "\n",
       "   int_rate  installment grade sub_grade            emp_title emp_length  \\\n",
       "0     10.65       162.87     B        B2                  NaN  10+ years   \n",
       "1     15.27        59.83     C        C4                Ryder   < 1 year   \n",
       "2     15.96        84.33     C        C5                  NaN  10+ years   \n",
       "3     13.49       339.31     C        C1  AIR RESOURCES BOARD  10+ years   \n",
       "\n",
       "  home_ownership  annual_inc verification_status   issue_d pymnt_plan  \\\n",
       "0           RENT     24000.0            Verified  Dec-2011          n   \n",
       "1           RENT     30000.0     Source Verified  Dec-2011          n   \n",
       "2           RENT     12252.0        Not Verified  Dec-2011          n   \n",
       "3           RENT     49200.0     Source Verified  Dec-2011          n   \n",
       "\n",
       "                                                desc         purpose  \\\n",
       "0    Borrower added on 12/22/11 > I need to upgra...     credit_card   \n",
       "1    Borrower added on 12/22/11 > I plan to use t...             car   \n",
       "2                                                NaN  small_business   \n",
       "3    Borrower added on 12/21/11 > to pay for prop...           other   \n",
       "\n",
       "                  title zip_code addr_state    dti  delinq_2yrs  \\\n",
       "0              Computer    860xx         AZ  27.65          0.0   \n",
       "1                  bike    309xx         GA   1.00          0.0   \n",
       "2  real estate business    606xx         IL   8.72          0.0   \n",
       "3              personel    917xx         CA  20.00          0.0   \n",
       "\n",
       "  earliest_cr_line  inq_last_6mths  mths_since_last_delinq  \\\n",
       "0         Jan-1985             1.0                     NaN   \n",
       "1         Apr-1999             5.0                     NaN   \n",
       "2         Nov-2001             2.0                     NaN   \n",
       "3         Feb-1996             1.0                    35.0   \n",
       "\n",
       "   mths_since_last_record  open_acc  pub_rec  revol_bal  revol_util  \\\n",
       "0                     NaN       3.0      0.0    13648.0        83.7   \n",
       "1                     NaN       3.0      0.0     1687.0         9.4   \n",
       "2                     NaN       2.0      0.0     2956.0        98.5   \n",
       "3                     NaN      10.0      0.0     5598.0        21.0   \n",
       "\n",
       "   total_acc initial_list_status  out_prncp  out_prncp_inv   total_pymnt  \\\n",
       "0        9.0                   f        0.0            0.0   5861.071414   \n",
       "1        4.0                   f        0.0            0.0   1008.710000   \n",
       "2       10.0                   f        0.0            0.0   3003.653644   \n",
       "3       37.0                   f        0.0            0.0  12226.302212   \n",
       "\n",
       "   total_pymnt_inv  total_rec_prncp  total_rec_int  total_rec_late_fee  \\\n",
       "0          5831.78          5000.00         861.07                0.00   \n",
       "1          1008.71           456.46         435.17                0.00   \n",
       "2          3003.65          2400.00         603.65                0.00   \n",
       "3         12226.30         10000.00        2209.33               16.97   \n",
       "\n",
       "   recoveries  collection_recovery_fee last_pymnt_d  last_pymnt_amnt  \\\n",
       "0        0.00                     0.00     Jan-2015           171.62   \n",
       "1      117.08                     1.11     Apr-2013           119.66   \n",
       "2        0.00                     0.00     Jun-2014           649.91   \n",
       "3        0.00                     0.00     Jan-2015           357.48   \n",
       "\n",
       "  next_pymnt_d last_credit_pull_d  collections_12_mths_ex_med  \\\n",
       "0          NaN           Jan-2016                         0.0   \n",
       "1          NaN           Sep-2013                         0.0   \n",
       "2          NaN           Jan-2016                         0.0   \n",
       "3          NaN           Jan-2015                         0.0   \n",
       "\n",
       "   mths_since_last_major_derog  policy_code application_type  \\\n",
       "0                          NaN          1.0       INDIVIDUAL   \n",
       "1                          NaN          1.0       INDIVIDUAL   \n",
       "2                          NaN          1.0       INDIVIDUAL   \n",
       "3                          NaN          1.0       INDIVIDUAL   \n",
       "\n",
       "   annual_inc_joint  dti_joint verification_status_joint  acc_now_delinq  \\\n",
       "0               NaN        NaN                       NaN             0.0   \n",
       "1               NaN        NaN                       NaN             0.0   \n",
       "2               NaN        NaN                       NaN             0.0   \n",
       "3               NaN        NaN                       NaN             0.0   \n",
       "\n",
       "   tot_coll_amt  tot_cur_bal  open_acc_6m  open_il_6m  open_il_12m  \\\n",
       "0           NaN          NaN          NaN         NaN          NaN   \n",
       "1           NaN          NaN          NaN         NaN          NaN   \n",
       "2           NaN          NaN          NaN         NaN          NaN   \n",
       "3           NaN          NaN          NaN         NaN          NaN   \n",
       "\n",
       "   open_il_24m  mths_since_rcnt_il  total_bal_il  il_util  open_rv_12m  \\\n",
       "0          NaN                 NaN           NaN      NaN          NaN   \n",
       "1          NaN                 NaN           NaN      NaN          NaN   \n",
       "2          NaN                 NaN           NaN      NaN          NaN   \n",
       "3          NaN                 NaN           NaN      NaN          NaN   \n",
       "\n",
       "   open_rv_24m  max_bal_bc  all_util  total_rev_hi_lim  inq_fi  total_cu_tl  \\\n",
       "0          NaN         NaN       NaN               NaN     NaN          NaN   \n",
       "1          NaN         NaN       NaN               NaN     NaN          NaN   \n",
       "2          NaN         NaN       NaN               NaN     NaN          NaN   \n",
       "3          NaN         NaN       NaN               NaN     NaN          NaN   \n",
       "\n",
       "   inq_last_12m  default_ind  \n",
       "0           NaN            0  \n",
       "1           NaN            1  \n",
       "2           NaN            0  \n",
       "3           NaN            0  "
      ]
     },
     "execution_count": 7,
     "metadata": {},
     "output_type": "execute_result"
    }
   ],
   "source": [
    "corp.head(4)"
   ]
  },
  {
   "cell_type": "code",
   "execution_count": 8,
   "id": "13b3d762",
   "metadata": {},
   "outputs": [
    {
     "data": {
      "text/plain": [
       "(855969, 73)"
      ]
     },
     "execution_count": 8,
     "metadata": {},
     "output_type": "execute_result"
    }
   ],
   "source": [
    "corp.shape"
   ]
  },
  {
   "cell_type": "code",
   "execution_count": 9,
   "id": "6b9bcd5e",
   "metadata": {},
   "outputs": [],
   "source": [
    "pd.set_option(\"display.max_rows\",None)"
   ]
  },
  {
   "cell_type": "code",
   "execution_count": 10,
   "id": "c072d8c9",
   "metadata": {},
   "outputs": [],
   "source": [
    "# to check the position of the column\n",
    "#df=corp.columns\n",
    "#d=pd.DataFrame(df)\n",
    "\n"
   ]
  },
  {
   "cell_type": "code",
   "execution_count": 11,
   "id": "33af15de",
   "metadata": {},
   "outputs": [],
   "source": [
    "# Store Data"
   ]
  },
  {
   "cell_type": "code",
   "execution_count": 12,
   "id": "5f4692ac",
   "metadata": {},
   "outputs": [
    {
     "data": {
      "text/plain": [
       "(855969, 21)"
      ]
     },
     "execution_count": 12,
     "metadata": {},
     "output_type": "execute_result"
    }
   ],
   "source": [
    "d1=corp.iloc[:,57:68]\n",
    "d2=corp[[\"desc\",\"mths_since_last_delinq\",\"mths_since_last_record\",\"mths_since_last_major_derog\",\"annual_inc_joint\",\"dti_joint\",\"verification_status_joint\",\"inq_fi\",\"total_cu_tl\",\"inq_last_12m\"]]\n",
    "d11=pd.DataFrame(d1)\n",
    "d22=pd.DataFrame(d2)\n",
    "dd=pd.concat([d11,d22],axis=1)\n",
    "#d1.shape,d2.shape\n",
    "dd.shape"
   ]
  },
  {
   "cell_type": "code",
   "execution_count": 13,
   "id": "0b4787a1",
   "metadata": {},
   "outputs": [],
   "source": [
    "corp.drop([\"desc\",\"mths_since_last_delinq\",\"mths_since_last_record\",\"mths_since_last_major_derog\",\"annual_inc_joint\",\"dti_joint\",\"verification_status_joint\",\"tot_coll_amt\",\"tot_cur_bal\",\"open_acc_6m\",\"open_il_6m\",\"open_il_12m\",\"open_il_24m\",\"mths_since_rcnt_il\",\"total_bal_il\",\"il_util\",\"open_rv_12m\",\"open_rv_24m\",\"max_bal_bc\",\"all_util\",\"inq_fi\",\"total_cu_tl\",\"inq_last_12m\"],axis=1,inplace=True)"
   ]
  },
  {
   "cell_type": "code",
   "execution_count": 14,
   "id": "fb172c5f",
   "metadata": {},
   "outputs": [],
   "source": [
    "#corp.emp_title.value_counts() \n",
    "#corp.emp_length.value_counts()\n",
    "#corp.title.value_counts()\n",
    "#corp.revol_util.value_counts()\n",
    "#corp.last_pymnt_d.value_counts()  \n",
    "#corp.next_pymnt_d.value_counts()  \n",
    "#corp.last_credit_pull_d.value_counts()\n",
    "#corp.collections_12_mths_ex_med.value_counts()  \n",
    "#corp.total_rev_hi_lim.value_counts() \n",
    "#corp.total_rev_hi_lim.value_counts()"
   ]
  },
  {
   "cell_type": "code",
   "execution_count": 15,
   "id": "6be83641",
   "metadata": {},
   "outputs": [],
   "source": [
    "#corp.isnull().sum()"
   ]
  },
  {
   "cell_type": "code",
   "execution_count": 16,
   "id": "9f0f52ed",
   "metadata": {},
   "outputs": [],
   "source": [
    "# fill null values\n",
    "corp.emp_title=corp.emp_title.fillna(\"diesetter\")\n",
    "corp.emp_length=corp.emp_length.fillna(\"9 years\")\n",
    "corp.title=corp.title.fillna(\"Unique Loan\")\n",
    "corp.revol_util=corp.revol_util.fillna(0.05)\n",
    "corp.last_pymnt_d=corp.last_pymnt_d.fillna(\"Mar-2013\")\n",
    "corp.next_pymnt_d=corp.next_pymnt_d.fillna(\"Mar-2016\")\n",
    "corp.last_credit_pull_d=corp.last_credit_pull_d.fillna(\"Jul-2007\")\n",
    "corp.collections_12_mths_ex_med=corp.collections_12_mths_ex_med.fillna(14.0)\n",
    "corp.total_rev_hi_lim=corp.total_rev_hi_lim.fillna(54528.0)"
   ]
  },
  {
   "cell_type": "code",
   "execution_count": 17,
   "id": "63684dd7",
   "metadata": {},
   "outputs": [],
   "source": [
    "#corp.dtypes"
   ]
  },
  {
   "cell_type": "code",
   "execution_count": 18,
   "id": "2740412a",
   "metadata": {},
   "outputs": [],
   "source": [
    "# Categorical to Numeric conversion\n",
    "from sklearn.preprocessing import LabelEncoder \n",
    "le=LabelEncoder()\n",
    "corp.term=le.fit_transform(corp.term)\n",
    "corp.grade=le.fit_transform(corp.grade)\n",
    "corp.sub_grade=le.fit_transform(corp.sub_grade)\n",
    "corp.emp_title=le.fit_transform(corp.emp_title)\n",
    "corp.emp_length=le.fit_transform(corp.emp_length)\n",
    "corp.home_ownership=le.fit_transform(corp.home_ownership)\n",
    "corp.verification_status =le.fit_transform(corp.verification_status )\n",
    "corp.issue_d=le.fit_transform(corp.issue_d)\n",
    "corp.pymnt_plan=le.fit_transform(corp.pymnt_plan)\n",
    "corp.purpose=le.fit_transform(corp.purpose)\n",
    "corp.title=le.fit_transform(corp.title)\n",
    "corp.zip_code=le.fit_transform(corp.zip_code)\n",
    "corp.addr_state=le.fit_transform(corp.addr_state)\n",
    "corp.earliest_cr_line=le.fit_transform(corp.earliest_cr_line)\n",
    "corp.initial_list_status=le.fit_transform(corp.initial_list_status)\n",
    "corp.last_pymnt_d=le.fit_transform(corp.last_pymnt_d)\n",
    "corp.next_pymnt_d=le.fit_transform(corp.next_pymnt_d)\n",
    "corp.last_credit_pull_d=le.fit_transform(corp.last_credit_pull_d)\n",
    "corp.application_type =le.fit_transform(corp.application_type )"
   ]
  },
  {
   "cell_type": "code",
   "execution_count": null,
   "id": "e3e253ad",
   "metadata": {},
   "outputs": [],
   "source": [
    "corp.duplicated()"
   ]
  },
  {
   "cell_type": "code",
   "execution_count": 20,
   "id": "eae3798e",
   "metadata": {},
   "outputs": [],
   "source": [
    "# split the data \n",
    "train=corp.iloc[0:400000,1:] # except id select all column in data\n",
    "train_x=train.iloc[:,:-1]\n",
    "train_y=train.iloc[:,-1]\n",
    "test=corp.iloc[400000:600001,1:-1] # except id and target column select all column in data\n",
    "validation=corp.iloc[600001:,:]\n",
    "#train.shape\n",
    "#test.shape\n",
    "#validation.shape\n",
    "#train_y.shape"
   ]
  },
  {
   "cell_type": "code",
   "execution_count": 21,
   "id": "75c546b4",
   "metadata": {},
   "outputs": [
    {
     "data": {
      "text/plain": [
       "((320000, 48), (80000, 48), (320000,), (80000,))"
      ]
     },
     "execution_count": 21,
     "metadata": {},
     "output_type": "execute_result"
    }
   ],
   "source": [
    "# split data into train and test\n",
    "from sklearn.model_selection import train_test_split\n",
    "d1_xtrain,d1_xtest,d1_ytrain,d1_ytest=train_test_split(train_x,train_y,test_size=0.2,random_state=101)\n",
    "d1_xtrain.shape, d1_xtest.shape, d1_ytrain.shape, d1_ytest.shape"
   ]
  },
  {
   "cell_type": "markdown",
   "id": "171b02ce",
   "metadata": {},
   "source": [
    "# Logistic Regression algorithm"
   ]
  },
  {
   "cell_type": "code",
   "execution_count": null,
   "id": "6f777db7",
   "metadata": {},
   "outputs": [],
   "source": [
    "# fit the basic model\n",
    "from sklearn.linear_model import LogisticRegression\n",
    "lg=LogisticRegression()\n",
    "lg.fit(d1_xtrain,d1_ytrain)\n",
    "predic=lg.predict(d1_xtest)\n",
    "#predict.head()"
   ]
  },
  {
   "cell_type": "code",
   "execution_count": null,
   "id": "3d2cbe09",
   "metadata": {},
   "outputs": [],
   "source": [
    "from sklearn.metrics import confusion_matrix\n",
    "from sklearn.metrics import classification_report"
   ]
  },
  {
   "cell_type": "code",
   "execution_count": null,
   "id": "c837210c",
   "metadata": {},
   "outputs": [],
   "source": [
    "confm=confusion_matrix(predic,d1_ytest)\n",
    "confm"
   ]
  },
  {
   "cell_type": "code",
   "execution_count": null,
   "id": "5dc712da",
   "metadata": {},
   "outputs": [],
   "source": [
    "accuracy=confm.diagonal().sum()/confm.sum()*100\n",
    "accuracy"
   ]
  },
  {
   "cell_type": "code",
   "execution_count": 30,
   "id": "10a717e7",
   "metadata": {},
   "outputs": [
    {
     "name": "stdout",
     "output_type": "stream",
     "text": [
      "              precision    recall  f1-score   support\n",
      "\n",
      "           0       0.99      0.98      0.99     73094\n",
      "           1       0.81      0.91      0.85      6906\n",
      "\n",
      "    accuracy                           0.97     80000\n",
      "   macro avg       0.90      0.94      0.92     80000\n",
      "weighted avg       0.98      0.97      0.97     80000\n",
      "\n"
     ]
    }
   ],
   "source": [
    "print(classification_report(predic,d1_ytest))"
   ]
  },
  {
   "cell_type": "code",
   "execution_count": null,
   "id": "ddd6dc17",
   "metadata": {},
   "outputs": [],
   "source": [
    "# value counts of target : there is imbalace issue\n",
    "train.iloc[:,-1].value_counts()"
   ]
  },
  {
   "cell_type": "markdown",
   "id": "761e46d3",
   "metadata": {},
   "source": [
    "# prediction on test data"
   ]
  },
  {
   "cell_type": "code",
   "execution_count": 72,
   "id": "ec18944c",
   "metadata": {},
   "outputs": [],
   "source": [
    "predic1=lg.predict(test)"
   ]
  },
  {
   "cell_type": "code",
   "execution_count": 73,
   "id": "6588fa0a",
   "metadata": {},
   "outputs": [
    {
     "ename": "AttributeError",
     "evalue": "'numpy.ndarray' object has no attribute 'head'",
     "output_type": "error",
     "traceback": [
      "\u001b[1;31m---------------------------------------------------------------------------\u001b[0m",
      "\u001b[1;31mAttributeError\u001b[0m                            Traceback (most recent call last)",
      "Input \u001b[1;32mIn [73]\u001b[0m, in \u001b[0;36m<cell line: 1>\u001b[1;34m()\u001b[0m\n\u001b[1;32m----> 1\u001b[0m \u001b[43mpredic1\u001b[49m\u001b[38;5;241;43m.\u001b[39;49m\u001b[43mhead\u001b[49m()\n",
      "\u001b[1;31mAttributeError\u001b[0m: 'numpy.ndarray' object has no attribute 'head'"
     ]
    }
   ],
   "source": [
    "predic1.head()"
   ]
  },
  {
   "cell_type": "markdown",
   "id": "69ec5be3",
   "metadata": {},
   "source": [
    "# Decision Tree algorithm\n"
   ]
  },
  {
   "cell_type": "code",
   "execution_count": 62,
   "id": "1ea6d95e",
   "metadata": {},
   "outputs": [],
   "source": [
    "from sklearn.tree import DecisionTreeClassifier\n",
    "dt=DecisionTreeClassifier(random_state=0)\n",
    "dt.fit(d1_xtrain,d1_ytrain)\n",
    "predic1=dt.predict(d1_xtest)\n"
   ]
  },
  {
   "cell_type": "code",
   "execution_count": 63,
   "id": "e3803db9",
   "metadata": {},
   "outputs": [
    {
     "data": {
      "text/plain": [
       "array([[72142,    90],\n",
       "       [   73,  7695]], dtype=int64)"
      ]
     },
     "execution_count": 63,
     "metadata": {},
     "output_type": "execute_result"
    }
   ],
   "source": [
    "confm1=confusion_matrix(predic1,d1_ytest)\n",
    "confm1\n"
   ]
  },
  {
   "cell_type": "code",
   "execution_count": 64,
   "id": "3df23cb1",
   "metadata": {},
   "outputs": [
    {
     "data": {
      "text/plain": [
       "99.79625"
      ]
     },
     "execution_count": 64,
     "metadata": {},
     "output_type": "execute_result"
    }
   ],
   "source": [
    "accuracy1=confm1.diagonal().sum()/confm1.sum()*100\n",
    "accuracy1# 99.58624999999999"
   ]
  },
  {
   "cell_type": "markdown",
   "id": "16e2f3b2",
   "metadata": {},
   "source": [
    "# Random Forest"
   ]
  },
  {
   "cell_type": "code",
   "execution_count": null,
   "id": "5e57e6f5",
   "metadata": {},
   "outputs": [],
   "source": [
    "# from sklearn.ensemble import RandomForestClassifier\n",
    "rf=RandomForestClassifier()\n",
    "rf.fit(d1_xtrain,d1_ytrain)\n",
    "pred1=rf.predict(d1_xtest)\n",
    "conf1=confusion_matrix(pred1,d1_ytest)\n",
    "accu1=conf1.diagonal().sum()/conf1.sum()*100\n",
    "accu1"
   ]
  },
  {
   "cell_type": "markdown",
   "id": "b8a811d6",
   "metadata": {},
   "source": [
    "# Feature selection"
   ]
  },
  {
   "cell_type": "code",
   "execution_count": 69,
   "id": "bcf13ec3",
   "metadata": {},
   "outputs": [
    {
     "data": {
      "text/plain": [
       "DecisionTreeClassifier()"
      ]
     },
     "execution_count": 69,
     "metadata": {},
     "output_type": "execute_result"
    }
   ],
   "source": [
    "from sklearn.tree import DecisionTreeClassifier\n",
    "dt=DecisionTreeClassifier()\n",
    "dt.fit(train.iloc[:,1:-1],train.iloc[:,-1])"
   ]
  },
  {
   "cell_type": "code",
   "execution_count": 70,
   "id": "aba3017b",
   "metadata": {},
   "outputs": [],
   "source": [
    "#(dt.feature_importances_)"
   ]
  },
  {
   "cell_type": "code",
   "execution_count": 71,
   "id": "948e28c7",
   "metadata": {},
   "outputs": [],
   "source": [
    "df=pd.DataFrame({\"Importance\":list(dt.feature_importances_),\"columns\":list(train.iloc[:,1:-1])})\n",
    "#df"
   ]
  },
  {
   "cell_type": "code",
   "execution_count": 192,
   "id": "32afaa15",
   "metadata": {},
   "outputs": [],
   "source": [
    "# not imp =   acc_now_delinq , application_type,,policy_code ,next_pymnt_d, collection_recovery_fee ,initial_list_status, pymnt_plan,term\n",
    "\n",
    "#emp variable  = collections_12_mths_ex_med, last_credit_pull_d,total_acc,revol_util,pub_rec,open_acc,delinq_2yrs,addr_state,purpose,issue_d,home_ownership \n",
    "#                 emp_length, sub_grade, grade,term"
   ]
  },
  {
   "cell_type": "code",
   "execution_count": 193,
   "id": "23c5e7b1",
   "metadata": {},
   "outputs": [
    {
     "data": {
      "text/html": [
       "<div>\n",
       "<style scoped>\n",
       "    .dataframe tbody tr th:only-of-type {\n",
       "        vertical-align: middle;\n",
       "    }\n",
       "\n",
       "    .dataframe tbody tr th {\n",
       "        vertical-align: top;\n",
       "    }\n",
       "\n",
       "    .dataframe thead th {\n",
       "        text-align: right;\n",
       "    }\n",
       "</style>\n",
       "<table border=\"1\" class=\"dataframe\">\n",
       "  <thead>\n",
       "    <tr style=\"text-align: right;\">\n",
       "      <th></th>\n",
       "      <th>collections_12_mths_ex_med</th>\n",
       "      <th>last_credit_pull_d</th>\n",
       "      <th>total_acc</th>\n",
       "      <th>revol_util</th>\n",
       "      <th>pub_rec</th>\n",
       "      <th>open_acc</th>\n",
       "      <th>delinq_2yrs</th>\n",
       "      <th>addr_state</th>\n",
       "      <th>purpose</th>\n",
       "      <th>issue_d</th>\n",
       "      <th>home_ownership</th>\n",
       "    </tr>\n",
       "  </thead>\n",
       "  <tbody>\n",
       "    <tr>\n",
       "      <th>0</th>\n",
       "      <td>0.0</td>\n",
       "      <td>41</td>\n",
       "      <td>9.0</td>\n",
       "      <td>83.7</td>\n",
       "      <td>0.0</td>\n",
       "      <td>3.0</td>\n",
       "      <td>0.0</td>\n",
       "      <td>3</td>\n",
       "      <td>1</td>\n",
       "      <td>21</td>\n",
       "      <td>5</td>\n",
       "    </tr>\n",
       "    <tr>\n",
       "      <th>1</th>\n",
       "      <td>0.0</td>\n",
       "      <td>99</td>\n",
       "      <td>4.0</td>\n",
       "      <td>9.4</td>\n",
       "      <td>0.0</td>\n",
       "      <td>3.0</td>\n",
       "      <td>0.0</td>\n",
       "      <td>10</td>\n",
       "      <td>0</td>\n",
       "      <td>21</td>\n",
       "      <td>5</td>\n",
       "    </tr>\n",
       "    <tr>\n",
       "      <th>2</th>\n",
       "      <td>0.0</td>\n",
       "      <td>41</td>\n",
       "      <td>10.0</td>\n",
       "      <td>98.5</td>\n",
       "      <td>0.0</td>\n",
       "      <td>2.0</td>\n",
       "      <td>0.0</td>\n",
       "      <td>14</td>\n",
       "      <td>11</td>\n",
       "      <td>21</td>\n",
       "      <td>5</td>\n",
       "    </tr>\n",
       "    <tr>\n",
       "      <th>3</th>\n",
       "      <td>0.0</td>\n",
       "      <td>40</td>\n",
       "      <td>37.0</td>\n",
       "      <td>21.0</td>\n",
       "      <td>0.0</td>\n",
       "      <td>10.0</td>\n",
       "      <td>0.0</td>\n",
       "      <td>4</td>\n",
       "      <td>9</td>\n",
       "      <td>21</td>\n",
       "      <td>5</td>\n",
       "    </tr>\n",
       "    <tr>\n",
       "      <th>4</th>\n",
       "      <td>0.0</td>\n",
       "      <td>41</td>\n",
       "      <td>38.0</td>\n",
       "      <td>53.9</td>\n",
       "      <td>0.0</td>\n",
       "      <td>15.0</td>\n",
       "      <td>0.0</td>\n",
       "      <td>37</td>\n",
       "      <td>9</td>\n",
       "      <td>21</td>\n",
       "      <td>5</td>\n",
       "    </tr>\n",
       "  </tbody>\n",
       "</table>\n",
       "</div>"
      ],
      "text/plain": [
       "   collections_12_mths_ex_med  last_credit_pull_d  total_acc  revol_util  \\\n",
       "0                         0.0                  41        9.0        83.7   \n",
       "1                         0.0                  99        4.0         9.4   \n",
       "2                         0.0                  41       10.0        98.5   \n",
       "3                         0.0                  40       37.0        21.0   \n",
       "4                         0.0                  41       38.0        53.9   \n",
       "\n",
       "   pub_rec  open_acc  delinq_2yrs  addr_state  purpose  issue_d  \\\n",
       "0      0.0       3.0          0.0           3        1       21   \n",
       "1      0.0       3.0          0.0          10        0       21   \n",
       "2      0.0       2.0          0.0          14       11       21   \n",
       "3      0.0      10.0          0.0           4        9       21   \n",
       "4      0.0      15.0          0.0          37        9       21   \n",
       "\n",
       "   home_ownership  \n",
       "0               5  \n",
       "1               5  \n",
       "2               5  \n",
       "3               5  \n",
       "4               5  "
      ]
     },
     "execution_count": 193,
     "metadata": {},
     "output_type": "execute_result"
    }
   ],
   "source": [
    "t1=train[[\"collections_12_mths_ex_med\", \"last_credit_pull_d\",\"total_acc\",\"revol_util\",\"pub_rec\",\"open_acc\",\"delinq_2yrs\",\"addr_state\",\"purpose\",\"issue_d\",\"home_ownership\"]] \n",
    "t1.head()"
   ]
  },
  {
   "cell_type": "code",
   "execution_count": 194,
   "id": "9cb39bb0",
   "metadata": {},
   "outputs": [
    {
     "data": {
      "image/png": "[encoded data removed]",
      "text/plain": [
       "<Figure size 720x720 with 2 Axes>"
      ]
     },
     "metadata": {
      "needs_background": "light"
     },
     "output_type": "display_data"
    }
   ],
   "source": [
    "cor1=t1.corr()\n",
    "plt.figure(figsize=(10,10))\n",
    "heatmap=sns.heatmap(cor1,linewidth=1,annot=True,cmap=plt.cm.Blues)\n",
    "plt.title(\"Heatmap using Seaborn Method\")\n",
    "plt.show()\n"
   ]
  },
  {
   "cell_type": "code",
   "execution_count": 195,
   "id": "6a65effb",
   "metadata": {},
   "outputs": [],
   "source": [
    "# there is multicolinearity present between two column\n",
    "v=train[[\"open_acc\",\"default_ind\"]]\n",
    "v1=train[[\"total_acc\",\"default_ind\"]]  \n",
    "#v.corr() =  -0.011597\n",
    "#v1.corr() = -0.026158 so total_acc is more correlate with target\n"
   ]
  },
  {
   "cell_type": "code",
   "execution_count": 196,
   "id": "bd23a8ce",
   "metadata": {},
   "outputs": [
    {
     "data": {
      "text/plain": [
       "((400000, 49), (400000, 49))"
      ]
     },
     "execution_count": 196,
     "metadata": {},
     "output_type": "execute_result"
    }
   ],
   "source": [
    "train1=train.copy()\n",
    "train1.shape\n"
   ]
  },
  {
   "cell_type": "code",
   "execution_count": 197,
   "id": "1ee7681e",
   "metadata": {},
   "outputs": [
    {
     "data": {
      "text/plain": [
       "(400000, 39)"
      ]
     },
     "execution_count": 197,
     "metadata": {},
     "output_type": "execute_result"
    }
   ],
   "source": [
    "train.drop([\"collections_12_mths_ex_med\",\"open_acc\",\"term\",\"acc_now_delinq\" ,\"application_type\",\"policy_code\" ,\"next_pymnt_d\", \"collection_recovery_fee\" ,\"initial_list_status\",\"pymnt_plan\"],axis=1,inplace=True)\n",
    "train.shape"
   ]
  },
  {
   "cell_type": "code",
   "execution_count": 198,
   "id": "a4ce61ab",
   "metadata": {},
   "outputs": [
    {
     "data": {
      "text/html": [
       "<div>\n",
       "<style scoped>\n",
       "    .dataframe tbody tr th:only-of-type {\n",
       "        vertical-align: middle;\n",
       "    }\n",
       "\n",
       "    .dataframe tbody tr th {\n",
       "        vertical-align: top;\n",
       "    }\n",
       "\n",
       "    .dataframe thead th {\n",
       "        text-align: right;\n",
       "    }\n",
       "</style>\n",
       "<table border=\"1\" class=\"dataframe\">\n",
       "  <thead>\n",
       "    <tr style=\"text-align: right;\">\n",
       "      <th></th>\n",
       "      <th>member_id</th>\n",
       "      <th>loan_amnt</th>\n",
       "      <th>funded_amnt</th>\n",
       "      <th>funded_amnt_inv</th>\n",
       "      <th>int_rate</th>\n",
       "      <th>installment</th>\n",
       "      <th>grade</th>\n",
       "      <th>sub_grade</th>\n",
       "      <th>emp_title</th>\n",
       "      <th>emp_length</th>\n",
       "      <th>home_ownership</th>\n",
       "      <th>annual_inc</th>\n",
       "      <th>verification_status</th>\n",
       "      <th>issue_d</th>\n",
       "      <th>purpose</th>\n",
       "      <th>title</th>\n",
       "      <th>zip_code</th>\n",
       "      <th>addr_state</th>\n",
       "      <th>dti</th>\n",
       "      <th>delinq_2yrs</th>\n",
       "      <th>earliest_cr_line</th>\n",
       "      <th>inq_last_6mths</th>\n",
       "      <th>pub_rec</th>\n",
       "      <th>revol_bal</th>\n",
       "      <th>revol_util</th>\n",
       "      <th>total_acc</th>\n",
       "      <th>out_prncp</th>\n",
       "      <th>out_prncp_inv</th>\n",
       "      <th>total_pymnt</th>\n",
       "      <th>total_pymnt_inv</th>\n",
       "      <th>total_rec_prncp</th>\n",
       "      <th>total_rec_int</th>\n",
       "      <th>total_rec_late_fee</th>\n",
       "      <th>recoveries</th>\n",
       "      <th>last_pymnt_d</th>\n",
       "      <th>last_pymnt_amnt</th>\n",
       "      <th>last_credit_pull_d</th>\n",
       "      <th>total_rev_hi_lim</th>\n",
       "      <th>default_ind</th>\n",
       "    </tr>\n",
       "  </thead>\n",
       "  <tbody>\n",
       "    <tr>\n",
       "      <th>count</th>\n",
       "      <td>400000.0</td>\n",
       "      <td>400000.0</td>\n",
       "      <td>400000.0</td>\n",
       "      <td>400000.0</td>\n",
       "      <td>400000.0</td>\n",
       "      <td>400000.0</td>\n",
       "      <td>400000.0</td>\n",
       "      <td>400000.0</td>\n",
       "      <td>400000.0</td>\n",
       "      <td>400000.0</td>\n",
       "      <td>400000.0</td>\n",
       "      <td>400000.0</td>\n",
       "      <td>400000.0</td>\n",
       "      <td>400000.0</td>\n",
       "      <td>400000.0</td>\n",
       "      <td>400000.0</td>\n",
       "      <td>400000.0</td>\n",
       "      <td>400000.0</td>\n",
       "      <td>400000.0</td>\n",
       "      <td>400000.0</td>\n",
       "      <td>400000.0</td>\n",
       "      <td>400000.0</td>\n",
       "      <td>400000.0</td>\n",
       "      <td>400000.0</td>\n",
       "      <td>400000.0</td>\n",
       "      <td>400000.0</td>\n",
       "      <td>400000.0</td>\n",
       "      <td>400000.0</td>\n",
       "      <td>400000.0</td>\n",
       "      <td>400000.0</td>\n",
       "      <td>400000.0</td>\n",
       "      <td>400000.0</td>\n",
       "      <td>400000.0</td>\n",
       "      <td>400000.0</td>\n",
       "      <td>400000.0</td>\n",
       "      <td>400000.0</td>\n",
       "      <td>400000.0</td>\n",
       "      <td>400000.0</td>\n",
       "      <td>400000.0</td>\n",
       "    </tr>\n",
       "    <tr>\n",
       "      <th>mean</th>\n",
       "      <td>14691247.0</td>\n",
       "      <td>14231.0</td>\n",
       "      <td>14203.0</td>\n",
       "      <td>14141.0</td>\n",
       "      <td>14.0</td>\n",
       "      <td>429.0</td>\n",
       "      <td>2.0</td>\n",
       "      <td>11.0</td>\n",
       "      <td>153766.0</td>\n",
       "      <td>4.0</td>\n",
       "      <td>3.0</td>\n",
       "      <td>73050.0</td>\n",
       "      <td>1.0</td>\n",
       "      <td>57.0</td>\n",
       "      <td>3.0</td>\n",
       "      <td>22360.0</td>\n",
       "      <td>481.0</td>\n",
       "      <td>23.0</td>\n",
       "      <td>17.0</td>\n",
       "      <td>0.0</td>\n",
       "      <td>370.0</td>\n",
       "      <td>1.0</td>\n",
       "      <td>0.0</td>\n",
       "      <td>16229.0</td>\n",
       "      <td>56.0</td>\n",
       "      <td>25.0</td>\n",
       "      <td>4218.0</td>\n",
       "      <td>4216.0</td>\n",
       "      <td>11583.0</td>\n",
       "      <td>11519.0</td>\n",
       "      <td>8945.0</td>\n",
       "      <td>2550.0</td>\n",
       "      <td>1.0</td>\n",
       "      <td>87.0</td>\n",
       "      <td>44.0</td>\n",
       "      <td>3165.0</td>\n",
       "      <td>45.0</td>\n",
       "      <td>34656.0</td>\n",
       "      <td>0.0</td>\n",
       "    </tr>\n",
       "    <tr>\n",
       "      <th>std</th>\n",
       "      <td>12377536.0</td>\n",
       "      <td>8270.0</td>\n",
       "      <td>8255.0</td>\n",
       "      <td>8269.0</td>\n",
       "      <td>4.0</td>\n",
       "      <td>242.0</td>\n",
       "      <td>1.0</td>\n",
       "      <td>7.0</td>\n",
       "      <td>85276.0</td>\n",
       "      <td>3.0</td>\n",
       "      <td>2.0</td>\n",
       "      <td>54672.0</td>\n",
       "      <td>1.0</td>\n",
       "      <td>31.0</td>\n",
       "      <td>2.0</td>\n",
       "      <td>13961.0</td>\n",
       "      <td>295.0</td>\n",
       "      <td>15.0</td>\n",
       "      <td>8.0</td>\n",
       "      <td>1.0</td>\n",
       "      <td>206.0</td>\n",
       "      <td>1.0</td>\n",
       "      <td>0.0</td>\n",
       "      <td>20535.0</td>\n",
       "      <td>24.0</td>\n",
       "      <td>12.0</td>\n",
       "      <td>6320.0</td>\n",
       "      <td>6318.0</td>\n",
       "      <td>8374.0</td>\n",
       "      <td>8356.0</td>\n",
       "      <td>7102.0</td>\n",
       "      <td>2488.0</td>\n",
       "      <td>5.0</td>\n",
       "      <td>559.0</td>\n",
       "      <td>22.0</td>\n",
       "      <td>5570.0</td>\n",
       "      <td>18.0</td>\n",
       "      <td>36542.0</td>\n",
       "      <td>0.0</td>\n",
       "    </tr>\n",
       "    <tr>\n",
       "      <th>min</th>\n",
       "      <td>70699.0</td>\n",
       "      <td>500.0</td>\n",
       "      <td>500.0</td>\n",
       "      <td>0.0</td>\n",
       "      <td>5.0</td>\n",
       "      <td>16.0</td>\n",
       "      <td>0.0</td>\n",
       "      <td>0.0</td>\n",
       "      <td>1.0</td>\n",
       "      <td>0.0</td>\n",
       "      <td>0.0</td>\n",
       "      <td>3000.0</td>\n",
       "      <td>0.0</td>\n",
       "      <td>0.0</td>\n",
       "      <td>0.0</td>\n",
       "      <td>0.0</td>\n",
       "      <td>0.0</td>\n",
       "      <td>0.0</td>\n",
       "      <td>0.0</td>\n",
       "      <td>0.0</td>\n",
       "      <td>0.0</td>\n",
       "      <td>0.0</td>\n",
       "      <td>0.0</td>\n",
       "      <td>0.0</td>\n",
       "      <td>0.0</td>\n",
       "      <td>2.0</td>\n",
       "      <td>0.0</td>\n",
       "      <td>0.0</td>\n",
       "      <td>0.0</td>\n",
       "      <td>0.0</td>\n",
       "      <td>0.0</td>\n",
       "      <td>0.0</td>\n",
       "      <td>0.0</td>\n",
       "      <td>0.0</td>\n",
       "      <td>0.0</td>\n",
       "      <td>0.0</td>\n",
       "      <td>0.0</td>\n",
       "      <td>0.0</td>\n",
       "      <td>0.0</td>\n",
       "    </tr>\n",
       "    <tr>\n",
       "      <th>25%</th>\n",
       "      <td>3769378.0</td>\n",
       "      <td>8000.0</td>\n",
       "      <td>8000.0</td>\n",
       "      <td>8000.0</td>\n",
       "      <td>11.0</td>\n",
       "      <td>253.0</td>\n",
       "      <td>1.0</td>\n",
       "      <td>6.0</td>\n",
       "      <td>79956.0</td>\n",
       "      <td>1.0</td>\n",
       "      <td>1.0</td>\n",
       "      <td>45000.0</td>\n",
       "      <td>0.0</td>\n",
       "      <td>24.0</td>\n",
       "      <td>2.0</td>\n",
       "      <td>13425.0</td>\n",
       "      <td>208.0</td>\n",
       "      <td>9.0</td>\n",
       "      <td>11.0</td>\n",
       "      <td>0.0</td>\n",
       "      <td>166.0</td>\n",
       "      <td>0.0</td>\n",
       "      <td>0.0</td>\n",
       "      <td>6417.0</td>\n",
       "      <td>39.0</td>\n",
       "      <td>16.0</td>\n",
       "      <td>0.0</td>\n",
       "      <td>0.0</td>\n",
       "      <td>5488.0</td>\n",
       "      <td>5442.0</td>\n",
       "      <td>3692.0</td>\n",
       "      <td>933.0</td>\n",
       "      <td>0.0</td>\n",
       "      <td>0.0</td>\n",
       "      <td>31.0</td>\n",
       "      <td>312.0</td>\n",
       "      <td>41.0</td>\n",
       "      <td>15400.0</td>\n",
       "      <td>0.0</td>\n",
       "    </tr>\n",
       "    <tr>\n",
       "      <th>50%</th>\n",
       "      <td>10067018.0</td>\n",
       "      <td>12000.0</td>\n",
       "      <td>12000.0</td>\n",
       "      <td>12000.0</td>\n",
       "      <td>13.0</td>\n",
       "      <td>378.0</td>\n",
       "      <td>2.0</td>\n",
       "      <td>10.0</td>\n",
       "      <td>158976.0</td>\n",
       "      <td>3.0</td>\n",
       "      <td>1.0</td>\n",
       "      <td>62300.0</td>\n",
       "      <td>1.0</td>\n",
       "      <td>58.0</td>\n",
       "      <td>2.0</td>\n",
       "      <td>16116.0</td>\n",
       "      <td>462.0</td>\n",
       "      <td>22.0</td>\n",
       "      <td>17.0</td>\n",
       "      <td>0.0</td>\n",
       "      <td>385.0</td>\n",
       "      <td>0.0</td>\n",
       "      <td>0.0</td>\n",
       "      <td>11788.0</td>\n",
       "      <td>58.0</td>\n",
       "      <td>23.0</td>\n",
       "      <td>0.0</td>\n",
       "      <td>0.0</td>\n",
       "      <td>9429.0</td>\n",
       "      <td>9373.0</td>\n",
       "      <td>6939.0</td>\n",
       "      <td>1783.0</td>\n",
       "      <td>0.0</td>\n",
       "      <td>0.0</td>\n",
       "      <td>40.0</td>\n",
       "      <td>551.0</td>\n",
       "      <td>41.0</td>\n",
       "      <td>27900.0</td>\n",
       "      <td>0.0</td>\n",
       "    </tr>\n",
       "    <tr>\n",
       "      <th>75%</th>\n",
       "      <td>24635563.0</td>\n",
       "      <td>20000.0</td>\n",
       "      <td>20000.0</td>\n",
       "      <td>19925.0</td>\n",
       "      <td>16.0</td>\n",
       "      <td>563.0</td>\n",
       "      <td>3.0</td>\n",
       "      <td>15.0</td>\n",
       "      <td>231854.0</td>\n",
       "      <td>7.0</td>\n",
       "      <td>5.0</td>\n",
       "      <td>88000.0</td>\n",
       "      <td>2.0</td>\n",
       "      <td>83.0</td>\n",
       "      <td>2.0</td>\n",
       "      <td>29783.0</td>\n",
       "      <td>775.0</td>\n",
       "      <td>35.0</td>\n",
       "      <td>23.0</td>\n",
       "      <td>0.0</td>\n",
       "      <td>565.0</td>\n",
       "      <td>1.0</td>\n",
       "      <td>0.0</td>\n",
       "      <td>20371.0</td>\n",
       "      <td>75.0</td>\n",
       "      <td>32.0</td>\n",
       "      <td>6877.0</td>\n",
       "      <td>6874.0</td>\n",
       "      <td>15425.0</td>\n",
       "      <td>15332.0</td>\n",
       "      <td>12000.0</td>\n",
       "      <td>3231.0</td>\n",
       "      <td>0.0</td>\n",
       "      <td>0.0</td>\n",
       "      <td>55.0</td>\n",
       "      <td>3380.0</td>\n",
       "      <td>41.0</td>\n",
       "      <td>54528.0</td>\n",
       "      <td>0.0</td>\n",
       "    </tr>\n",
       "    <tr>\n",
       "      <th>max</th>\n",
       "      <td>40860827.0</td>\n",
       "      <td>35000.0</td>\n",
       "      <td>35000.0</td>\n",
       "      <td>35000.0</td>\n",
       "      <td>26.0</td>\n",
       "      <td>1410.0</td>\n",
       "      <td>6.0</td>\n",
       "      <td>34.0</td>\n",
       "      <td>290910.0</td>\n",
       "      <td>10.0</td>\n",
       "      <td>5.0</td>\n",
       "      <td>7500000.0</td>\n",
       "      <td>2.0</td>\n",
       "      <td>101.0</td>\n",
       "      <td>13.0</td>\n",
       "      <td>60990.0</td>\n",
       "      <td>930.0</td>\n",
       "      <td>50.0</td>\n",
       "      <td>40.0</td>\n",
       "      <td>29.0</td>\n",
       "      <td>695.0</td>\n",
       "      <td>8.0</td>\n",
       "      <td>54.0</td>\n",
       "      <td>2568995.0</td>\n",
       "      <td>892.0</td>\n",
       "      <td>156.0</td>\n",
       "      <td>32160.0</td>\n",
       "      <td>32160.0</td>\n",
       "      <td>57778.0</td>\n",
       "      <td>57778.0</td>\n",
       "      <td>35000.0</td>\n",
       "      <td>24206.0</td>\n",
       "      <td>359.0</td>\n",
       "      <td>33520.0</td>\n",
       "      <td>96.0</td>\n",
       "      <td>36234.0</td>\n",
       "      <td>101.0</td>\n",
       "      <td>9999999.0</td>\n",
       "      <td>1.0</td>\n",
       "    </tr>\n",
       "  </tbody>\n",
       "</table>\n",
       "</div>"
      ],
      "text/plain": [
       "        member_id  loan_amnt  funded_amnt  funded_amnt_inv  int_rate  \\\n",
       "count    400000.0   400000.0     400000.0         400000.0  400000.0   \n",
       "mean   14691247.0    14231.0      14203.0          14141.0      14.0   \n",
       "std    12377536.0     8270.0       8255.0           8269.0       4.0   \n",
       "min       70699.0      500.0        500.0              0.0       5.0   \n",
       "25%     3769378.0     8000.0       8000.0           8000.0      11.0   \n",
       "50%    10067018.0    12000.0      12000.0          12000.0      13.0   \n",
       "75%    24635563.0    20000.0      20000.0          19925.0      16.0   \n",
       "max    40860827.0    35000.0      35000.0          35000.0      26.0   \n",
       "\n",
       "       installment     grade  sub_grade  emp_title  emp_length  \\\n",
       "count     400000.0  400000.0   400000.0   400000.0    400000.0   \n",
       "mean         429.0       2.0       11.0   153766.0         4.0   \n",
       "std          242.0       1.0        7.0    85276.0         3.0   \n",
       "min           16.0       0.0        0.0        1.0         0.0   \n",
       "25%          253.0       1.0        6.0    79956.0         1.0   \n",
       "50%          378.0       2.0       10.0   158976.0         3.0   \n",
       "75%          563.0       3.0       15.0   231854.0         7.0   \n",
       "max         1410.0       6.0       34.0   290910.0        10.0   \n",
       "\n",
       "       home_ownership  annual_inc  verification_status   issue_d   purpose  \\\n",
       "count        400000.0    400000.0             400000.0  400000.0  400000.0   \n",
       "mean              3.0     73050.0                  1.0      57.0       3.0   \n",
       "std               2.0     54672.0                  1.0      31.0       2.0   \n",
       "min               0.0      3000.0                  0.0       0.0       0.0   \n",
       "25%               1.0     45000.0                  0.0      24.0       2.0   \n",
       "50%               1.0     62300.0                  1.0      58.0       2.0   \n",
       "75%               5.0     88000.0                  2.0      83.0       2.0   \n",
       "max               5.0   7500000.0                  2.0     101.0      13.0   \n",
       "\n",
       "          title  zip_code  addr_state       dti  delinq_2yrs  \\\n",
       "count  400000.0  400000.0    400000.0  400000.0     400000.0   \n",
       "mean    22360.0     481.0        23.0      17.0          0.0   \n",
       "std     13961.0     295.0        15.0       8.0          1.0   \n",
       "min         0.0       0.0         0.0       0.0          0.0   \n",
       "25%     13425.0     208.0         9.0      11.0          0.0   \n",
       "50%     16116.0     462.0        22.0      17.0          0.0   \n",
       "75%     29783.0     775.0        35.0      23.0          0.0   \n",
       "max     60990.0     930.0        50.0      40.0         29.0   \n",
       "\n",
       "       earliest_cr_line  inq_last_6mths   pub_rec  revol_bal  revol_util  \\\n",
       "count          400000.0        400000.0  400000.0   400000.0    400000.0   \n",
       "mean              370.0             1.0       0.0    16229.0        56.0   \n",
       "std               206.0             1.0       0.0    20535.0        24.0   \n",
       "min                 0.0             0.0       0.0        0.0         0.0   \n",
       "25%               166.0             0.0       0.0     6417.0        39.0   \n",
       "50%               385.0             0.0       0.0    11788.0        58.0   \n",
       "75%               565.0             1.0       0.0    20371.0        75.0   \n",
       "max               695.0             8.0      54.0  2568995.0       892.0   \n",
       "\n",
       "       total_acc  out_prncp  out_prncp_inv  total_pymnt  total_pymnt_inv  \\\n",
       "count   400000.0   400000.0       400000.0     400000.0         400000.0   \n",
       "mean        25.0     4218.0         4216.0      11583.0          11519.0   \n",
       "std         12.0     6320.0         6318.0       8374.0           8356.0   \n",
       "min          2.0        0.0            0.0          0.0              0.0   \n",
       "25%         16.0        0.0            0.0       5488.0           5442.0   \n",
       "50%         23.0        0.0            0.0       9429.0           9373.0   \n",
       "75%         32.0     6877.0         6874.0      15425.0          15332.0   \n",
       "max        156.0    32160.0        32160.0      57778.0          57778.0   \n",
       "\n",
       "       total_rec_prncp  total_rec_int  total_rec_late_fee  recoveries  \\\n",
       "count         400000.0       400000.0            400000.0    400000.0   \n",
       "mean            8945.0         2550.0                 1.0        87.0   \n",
       "std             7102.0         2488.0                 5.0       559.0   \n",
       "min                0.0            0.0                 0.0         0.0   \n",
       "25%             3692.0          933.0                 0.0         0.0   \n",
       "50%             6939.0         1783.0                 0.0         0.0   \n",
       "75%            12000.0         3231.0                 0.0         0.0   \n",
       "max            35000.0        24206.0               359.0     33520.0   \n",
       "\n",
       "       last_pymnt_d  last_pymnt_amnt  last_credit_pull_d  total_rev_hi_lim  \\\n",
       "count      400000.0         400000.0            400000.0          400000.0   \n",
       "mean           44.0           3165.0                45.0           34656.0   \n",
       "std            22.0           5570.0                18.0           36542.0   \n",
       "min             0.0              0.0                 0.0               0.0   \n",
       "25%            31.0            312.0                41.0           15400.0   \n",
       "50%            40.0            551.0                41.0           27900.0   \n",
       "75%            55.0           3380.0                41.0           54528.0   \n",
       "max            96.0          36234.0               101.0         9999999.0   \n",
       "\n",
       "       default_ind  \n",
       "count     400000.0  \n",
       "mean           0.0  \n",
       "std            0.0  \n",
       "min            0.0  \n",
       "25%            0.0  \n",
       "50%            0.0  \n",
       "75%            0.0  \n",
       "max            1.0  "
      ]
     },
     "execution_count": 198,
     "metadata": {},
     "output_type": "execute_result"
    }
   ],
   "source": [
    "train.describe().round()"
   ]
  },
  {
   "cell_type": "code",
   "execution_count": 2,
   "id": "889b36e1",
   "metadata": {},
   "outputs": [],
   "source": [
    "#train.skew()"
   ]
  },
  {
   "cell_type": "markdown",
   "id": "1639d2df",
   "metadata": {},
   "source": [
    "# treating skeness"
   ]
  },
  {
   "cell_type": "code",
   "execution_count": 213,
   "id": "579b8ebb",
   "metadata": {},
   "outputs": [],
   "source": [
    "train[\"total_pymnt\"]=np.sqrt(train.total_pymnt)\n",
    "train[\"total_pymnt_inv\"]=np.sqrt(train.total_pymnt_inv)\n",
    "train[\"total_rec_prncp\"]=np.sqrt(train.total_rec_prncp)\n",
    "train[\"total_rec_int\"]=np.sqrt(train.total_rec_int)\n",
    "train[\"total_rev_hi_lim\"]=np.sqrt(train.total_rev_hi_lim)\n",
    "train[\"default_ind\"]=np.sqrt(train.default_ind)\n",
    "train[\"revol_bal\"]=np.sqrt(train.revol_bal)\n"
   ]
  },
  {
   "cell_type": "code",
   "execution_count": 206,
   "id": "9cbaec0c",
   "metadata": {},
   "outputs": [],
   "source": [
    "train=train[train.annual_inc > 0]\n",
    "#train.shape\n",
    "logd=np.log(train.annual_inc)"
   ]
  },
  {
   "cell_type": "code",
   "execution_count": 207,
   "id": "c6ab9f6d",
   "metadata": {},
   "outputs": [
    {
     "data": {
      "text/plain": [
       "(array([2.70000e+01, 1.36500e+03, 3.13450e+04, 1.94194e+05, 1.52348e+05,\n",
       "        1.92750e+04, 1.27400e+03, 1.56000e+02, 8.00000e+00, 8.00000e+00]),\n",
       " array([ 8.00636757,  8.78877217,  9.57117677, 10.35358137, 11.13598597,\n",
       "        11.91839057, 12.70079517, 13.48319978, 14.26560438, 15.04800898,\n",
       "        15.83041358]),\n",
       " <BarContainer object of 10 artists>)"
      ]
     },
     "execution_count": 207,
     "metadata": {},
     "output_type": "execute_result"
    },
    {
     "data": {
      "image/png": "[encoded data removed]",
      "text/plain": [
       "<Figure size 432x288 with 1 Axes>"
      ]
     },
     "metadata": {
      "needs_background": "light"
     },
     "output_type": "display_data"
    }
   ],
   "source": [
    "plt.hist(logd)"
   ]
  },
  {
   "cell_type": "code",
   "execution_count": 208,
   "id": "7912b6a4",
   "metadata": {},
   "outputs": [
    {
     "data": {
      "text/plain": [
       "<AxesSubplot:xlabel='annual_inc', ylabel='Density'>"
      ]
     },
     "execution_count": 208,
     "metadata": {},
     "output_type": "execute_result"
    },
    {
     "data": {
      "image/png": "[encoded data removed]",
      "text/plain": [
       "<Figure size 720x720 with 1 Axes>"
      ]
     },
     "metadata": {
      "needs_background": "light"
     },
     "output_type": "display_data"
    }
   ],
   "source": [
    "fig=plt.figure(figsize=(10,10))\n",
    "sns.distplot(logd)"
   ]
  },
  {
   "cell_type": "code",
   "execution_count": 209,
   "id": "ff70ab29",
   "metadata": {},
   "outputs": [
    {
     "data": {
      "text/plain": [
       "0.1872552313059594"
      ]
     },
     "execution_count": 209,
     "metadata": {},
     "output_type": "execute_result"
    }
   ],
   "source": [
    "logd.skew()  "
   ]
  },
  {
   "cell_type": "code",
   "execution_count": 215,
   "id": "226be67b",
   "metadata": {},
   "outputs": [
    {
     "data": {
      "text/plain": [
       "Index(['member_id', 'loan_amnt', 'funded_amnt', 'funded_amnt_inv', 'int_rate',\n",
       "       'installment', 'grade', 'sub_grade', 'emp_title', 'emp_length',\n",
       "       'home_ownership', 'annual_inc', 'verification_status', 'issue_d',\n",
       "       'purpose', 'title', 'zip_code', 'addr_state', 'dti', 'delinq_2yrs',\n",
       "       'earliest_cr_line', 'inq_last_6mths', 'pub_rec', 'revol_bal',\n",
       "       'revol_util', 'total_acc', 'out_prncp', 'out_prncp_inv', 'total_pymnt',\n",
       "       'total_pymnt_inv', 'total_rec_prncp', 'total_rec_int',\n",
       "       'total_rec_late_fee', 'recoveries', 'last_pymnt_d', 'last_pymnt_amnt',\n",
       "       'last_credit_pull_d', 'total_rev_hi_lim', 'default_ind'],\n",
       "      dtype='object')"
      ]
     },
     "execution_count": 215,
     "metadata": {},
     "output_type": "execute_result"
    }
   ],
   "source": [
    "train.columns"
   ]
  },
  {
   "cell_type": "markdown",
   "id": "d16d3cbd",
   "metadata": {},
   "source": [
    "# Treat Imbalance issue"
   ]
  },
  {
   "cell_type": "code",
   "execution_count": 24,
   "id": "5e281604",
   "metadata": {},
   "outputs": [
    {
     "name": "stdout",
     "output_type": "stream",
     "text": [
      "361125 38875\n"
     ]
    }
   ],
   "source": [
    "# Random UnderSampling\n",
    "c_0,c_1 = train[\"default_ind\"].value_counts()\n",
    "print(c_0,c_1) # c=counts"
   ]
  },
  {
   "cell_type": "code",
   "execution_count": 25,
   "id": "a07ae70e",
   "metadata": {},
   "outputs": [
    {
     "name": "stdout",
     "output_type": "stream",
     "text": [
      "(361125, 49) (38875, 49)\n"
     ]
    }
   ],
   "source": [
    "# spliting target 0,1\n",
    "train0=train[train[\"default_ind\"]==0]\n",
    "train1=train[train[\"default_ind\"]==1]\n",
    "print(train0.shape,train1.shape)"
   ]
  },
  {
   "cell_type": "code",
   "execution_count": 26,
   "id": "cb7a1679",
   "metadata": {},
   "outputs": [],
   "source": [
    "# highly represented\n",
    "class0_under=train0.sample(c_1)"
   ]
  },
  {
   "cell_type": "code",
   "execution_count": 27,
   "id": "9b0637b0",
   "metadata": {},
   "outputs": [
    {
     "data": {
      "text/plain": [
       "(77750, 49)"
      ]
     },
     "execution_count": 27,
     "metadata": {},
     "output_type": "execute_result"
    }
   ],
   "source": [
    "class0_1=pd.concat([class0_under,train1],axis=0)\n",
    "class0_1.shape"
   ]
  },
  {
   "cell_type": "code",
   "execution_count": 28,
   "id": "3845a516",
   "metadata": {},
   "outputs": [
    {
     "data": {
      "text/plain": [
       "0    38875\n",
       "1    38875\n",
       "Name: default_ind, dtype: int64"
      ]
     },
     "execution_count": 28,
     "metadata": {},
     "output_type": "execute_result"
    }
   ],
   "source": [
    "class0_1.default_ind.value_counts() # final dataset for model building r"
   ]
  },
  {
   "cell_type": "code",
   "execution_count": 29,
   "id": "0979e60c",
   "metadata": {},
   "outputs": [],
   "source": [
    "x=class0_1.iloc[:,1:-1]\n",
    "y=class0_1.iloc[:,-1]"
   ]
  },
  {
   "cell_type": "code",
   "execution_count": 30,
   "id": "d290c798",
   "metadata": {},
   "outputs": [],
   "source": [
    "x_train,x_test ,y_train,y_test=train_test_split(x,y,test_size=0.2,random_state=101)\n"
   ]
  },
  {
   "cell_type": "code",
   "execution_count": 31,
   "id": "0a005240",
   "metadata": {},
   "outputs": [
    {
     "data": {
      "text/plain": [
       "((62200, 47), (15550, 47), (62200,), (15550,))"
      ]
     },
     "execution_count": 31,
     "metadata": {},
     "output_type": "execute_result"
    }
   ],
   "source": [
    "x_train.shape,x_test.shape ,y_train.shape,y_test.shape"
   ]
  },
  {
   "cell_type": "code",
   "execution_count": 224,
   "id": "3fdaf4a2",
   "metadata": {},
   "outputs": [
    {
     "data": {
      "text/plain": [
       "99.65032700900083"
      ]
     },
     "execution_count": 224,
     "metadata": {},
     "output_type": "execute_result"
    }
   ],
   "source": [
    "# from sklearn.ensemble import RandomForestClassifier\n",
    "rf=RandomForestClassifier()\n",
    "rf.fit(x_train,y_train)\n",
    "pred11=rf.predict(x_test)\n",
    "conf11=confusion_matrix(pred11,y_test)\n",
    "accu11=conf11.diagonal().sum()/conf11.sum()*100\n",
    "accu11"
   ]
  },
  {
   "cell_type": "code",
   "execution_count": 225,
   "id": "fab3fe40",
   "metadata": {},
   "outputs": [
    {
     "data": {
      "text/plain": [
       "array([[7640,   52],\n",
       "       [   2, 7749]], dtype=int64)"
      ]
     },
     "execution_count": 225,
     "metadata": {},
     "output_type": "execute_result"
    }
   ],
   "source": [
    "conf11"
   ]
  },
  {
   "cell_type": "code",
   "execution_count": 226,
   "id": "4e4cb4aa",
   "metadata": {},
   "outputs": [
    {
     "name": "stdout",
     "output_type": "stream",
     "text": [
      "              precision    recall  f1-score   support\n",
      "\n",
      "         0.0       1.00      0.99      1.00      7692\n",
      "         1.0       0.99      1.00      1.00      7751\n",
      "\n",
      "    accuracy                           1.00     15443\n",
      "   macro avg       1.00      1.00      1.00     15443\n",
      "weighted avg       1.00      1.00      1.00     15443\n",
      "\n"
     ]
    }
   ],
   "source": [
    "print(classification_report(pred11,y_test))"
   ]
  },
  {
   "cell_type": "markdown",
   "id": "dc1647e3",
   "metadata": {},
   "source": [
    "# Cross Validation"
   ]
  },
  {
   "cell_type": "code",
   "execution_count": 21,
   "id": "4053bd68",
   "metadata": {},
   "outputs": [
    {
     "data": {
      "text/plain": [
       "0.9982375"
      ]
     },
     "execution_count": 21,
     "metadata": {},
     "output_type": "execute_result"
    }
   ],
   "source": [
    "from sklearn.ensemble import RandomForestClassifier\n",
    "from sklearn.metrics import accuracy_score\n",
    "rf=RandomForestClassifier(max_samples=0.75,random_state=56)\n",
    "rf.fit(d1_xtrain,d1_ytrain)\n",
    "y_pred= rf.predict(d1_xtest)\n",
    "accuracy_score(d1_ytest,y_pred)"
   ]
  },
  {
   "cell_type": "code",
   "execution_count": 33,
   "id": "3b0b7d26",
   "metadata": {},
   "outputs": [
    {
     "data": {
      "text/plain": [
       "0.9950868167202571"
      ]
     },
     "execution_count": 33,
     "metadata": {},
     "output_type": "execute_result"
    }
   ],
   "source": [
    "from sklearn.model_selection import cross_val_score\n",
    "np.mean(cross_val_score(RandomForestClassifier(),x,y,cv=10,scoring=\"accuracy\"))"
   ]
  },
  {
   "cell_type": "code",
   "execution_count": null,
   "id": "ba03eba6",
   "metadata": {},
   "outputs": [],
   "source": []
  }
 ],
 "metadata": {
  "kernelspec": {
   "display_name": "Python 3 (ipykernel)",
   "language": "python",
   "name": "python3"
  },
  "language_info": {
   "codemirror_mode": {
    "name": "ipython",
    "version": 3
   },
   "file_extension": ".py",
   "mimetype": "text/x-python",
   "name": "python",
   "nbconvert_exporter": "python",
   "pygments_lexer": "ipython3",
   "version": "3.9.12"
  }
 },
 "nbformat": 4,
 "nbformat_minor": 5
}
